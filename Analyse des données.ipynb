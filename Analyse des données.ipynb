{
 "cells": [
  {
   "cell_type": "code",
   "execution_count": null,
   "metadata": {},
   "outputs": [],
   "source": [
    "library(FactoMineR)\n",
    "library(corrplot)\n",
    "library(ggplot2)\n",
    "library(factoextra)"
   ]
  },
  {
   "cell_type": "markdown",
   "metadata": {},
   "source": [
    "## IMPORTATION DES DONNEES"
   ]
  },
  {
   "cell_type": "code",
   "execution_count": null,
   "metadata": {},
   "outputs": [],
   "source": [
    "def = read.csv('./Donnees/Plusieurs_pays/Defensive.csv', header = TRUE)"
   ]
  },
  {
   "cell_type": "code",
   "execution_count": null,
   "metadata": {},
   "outputs": [],
   "source": [
    "pas_complet = read.csv('./Donnees/Plusieurs_pays/Passing.csv', header = TRUE)"
   ]
  },
  {
   "cell_type": "code",
   "execution_count": null,
   "metadata": {},
   "outputs": [],
   "source": [
    "of = read.csv('./Donnees/Plusieurs_pays/Offensive.csv', header = TRUE)"
   ]
  },
  {
   "cell_type": "markdown",
   "metadata": {},
   "source": [
    "## ANALYSE DESCRIPTIVE DES DONNEES DEFENSIVES"
   ]
  },
  {
   "cell_type": "markdown",
   "metadata": {},
   "source": [
    "#### Analyse de la corrélation"
   ]
  },
  {
   "cell_type": "code",
   "execution_count": null,
   "metadata": {
    "scrolled": false
   },
   "outputs": [],
   "source": [
    "options(repr.plot.width=18, repr.plot.height=8)\n",
    "par(mfrow=c(1,3))\n",
    "par(cex.axis=2)\n",
    "boxplot(def[c(1,3,10)], las = 2)\n",
    "boxplot(def[c(2,4,5,6,13)], las = 2)\n",
    "boxplot(def[c(7,8,9,11,12,14,15,16,17)], las = 2)"
   ]
  },
  {
   "cell_type": "markdown",
   "metadata": {},
   "source": [
    "On remarque que les variables `Cards_Red` et `Saves_SixYardBox` ont une étendue très faible donc, à première vue, il ne semble pas nécessaire de les garder pour l'étude."
   ]
  },
  {
   "cell_type": "code",
   "execution_count": null,
   "metadata": {
    "scrolled": false
   },
   "outputs": [],
   "source": [
    "options(repr.plot.width=18, repr.plot.height=18)\n",
    "corr_def=cor(def[-18])\n",
    "corrplot.mixed(corr_def, upper = \"ellipse\", diag = 'u', tl.pos = 'lt')"
   ]
  },
  {
   "cell_type": "markdown",
   "metadata": {},
   "source": [
    "On remarque que les variables `TotalTackles` et `TotalAttemptedTackles` sont très corrélées linéairement. De même pour `SavesTotal` et `SavesPenaltyArea`, ainsi que `savesTotal` et `SavesOutOfBox`. Cela est sûrement dû au fait que  `savesTotal` regroupe ces deux variables, et qu'elles doivent représenter une grande partie de cette variable totale.  \n",
    "Ce qui nous intéresse c'est les variables corrélées avec la variable `Rating`. Au vu du scatter matrix, la variable `Clearances_Total` est corrélée linéairement négativement."
   ]
  },
  {
   "cell_type": "markdown",
   "metadata": {},
   "source": [
    "#### Analyse en composantes principales"
   ]
  },
  {
   "cell_type": "code",
   "execution_count": null,
   "metadata": {},
   "outputs": [],
   "source": [
    "pca_def=PCA(def,scale.unit=T,graph=F, quanti.sup = 19, quali.sup = 18)\n",
    "\n",
    "#barplot(pca$eig[,1], main = \"Ebouli des valeurs propres\", cex.main = 3)\n",
    "fviz_eig(pca_def, addlabels = TRUE, ylim = c(0, 30))"
   ]
  },
  {
   "cell_type": "markdown",
   "metadata": {},
   "source": [
    "Au vu de l'ébouli des valeurs propres, on peut garder deux ou trois composantes principales."
   ]
  },
  {
   "cell_type": "code",
   "execution_count": null,
   "metadata": {},
   "outputs": [],
   "source": [
    "fviz_pca_var(pca_def)"
   ]
  },
  {
   "cell_type": "code",
   "execution_count": null,
   "metadata": {},
   "outputs": [],
   "source": [
    "fviz_pca_biplot(pca_def, #repel = TRUE,\n",
    "                col.var = \"darkslategrey\", # Variables color\n",
    "                habillage = def[,18], # Individuals color\n",
    "                col.quanti.sup = \"red\",\n",
    "                col.circle = \"darkslategrey\"\n",
    "                )"
   ]
  },
  {
   "cell_type": "markdown",
   "metadata": {},
   "source": [
    "Pour l'ACP des dimensions 1 et 2 (pour seulement 44% de l'information), on remarque que `Rating` est corrélé négativement avec `Clearances`, `Saves_Total`, `ShotsBlocked`, `Saves_PenaltyArea`. On voit aussi que dans ce plan, il ne semble pas y avoir de relations entre le nombre de cartons, jaunes ou rouge, ou la quantité de tacles avec la variable `Rating`.  \n",
    "`Rating` est la seule variable orientée vers la gauche, alors que toutes les autres variables sont orientées vers la gauche. Ce sont les données défensives. Par conséquent, lorsque une équipe défend beaucoup, elle est en difficulté, et elle a de plus fortes chances d'avoir un score faible."
   ]
  },
  {
   "cell_type": "markdown",
   "metadata": {},
   "source": [
    "On remarque aussi que l'Argentine possède un style de jeu défensif bien particulier. En effet, toutes les équipes argentines sont regroupées en bas à droite, et semblent avoir un jeu plus agressif."
   ]
  },
  {
   "cell_type": "code",
   "execution_count": null,
   "metadata": {},
   "outputs": [],
   "source": [
    "fviz_pca_var(pca_def, axes = c(2,3))"
   ]
  },
  {
   "cell_type": "markdown",
   "metadata": {},
   "source": [
    "Dans ce plan, les tacles sont pas très bien expliqués, mais semblent corrélés positivement avec `Rating`. On voit que la variable `Clearance` est toujours très corrélée négativement.  \n",
    "Dans ce plan, les variables `Fouls_Fouls` (=fautes effectuées par notre équipe), `CrossesBlocked` et `Saves_OutOfBox` sont négativement corrélée avec `Rating`."
   ]
  },
  {
   "cell_type": "code",
   "execution_count": null,
   "metadata": {},
   "outputs": [],
   "source": [
    "fviz_pca_biplot(pca_def, #repel = TRUE,\n",
    "                axes = c(2,3),\n",
    "                col.var = \"darkslategrey\", # Variables color\n",
    "                habillage = def[,18], # Individuals color\n",
    "                col.quanti.sup = \"red\",\n",
    "                col.circle = \"darkslategrey\"\n",
    "                )"
   ]
  },
  {
   "cell_type": "markdown",
   "metadata": {},
   "source": [
    "Dans ces dimensions, l'Italie semble se démarquer par un jeu plutôt défensif. L'Argentine possède encore un jeu agressif, avec un groupe autour des fautes et des cartons. La France n'a pas de jeu particulier."
   ]
  },
  {
   "cell_type": "markdown",
   "metadata": {},
   "source": [
    "## ANALYSE DESCRIPTIVE DONNEES PASSING"
   ]
  },
  {
   "cell_type": "markdown",
   "metadata": {},
   "source": [
    "#### Analyse de la corrélation"
   ]
  },
  {
   "cell_type": "markdown",
   "metadata": {},
   "source": [
    "On remarque qu'une variable est quasiment tout le temps à 0. On va l'enlever."
   ]
  },
  {
   "cell_type": "code",
   "execution_count": null,
   "metadata": {},
   "outputs": [],
   "source": [
    "pas = pas_complet[-c(5)]"
   ]
  },
  {
   "cell_type": "code",
   "execution_count": null,
   "metadata": {},
   "outputs": [],
   "source": [
    "options(repr.plot.width=18, repr.plot.height=8)\n",
    "par(mfrow=c(1,3))\n",
    "par(cex.axis=2)\n",
    "boxplot(pas[c(7,10)], las = 2)\n",
    "boxplot(pas[c(8,9,11)], las = 2)\n",
    "boxplot(pas[c(12,13,16,17,18,20,26)], las = 2)\n",
    "boxplot(pas[c(21,19,15,14,6)], las = 2)\n",
    "boxplot(pas[-c(7,8,9,10,11,12,13,16,17,18,20,26,27,28,21,19,15,14,6)], las = 2)"
   ]
  },
  {
   "cell_type": "markdown",
   "metadata": {},
   "source": [
    "On a fait plusieurs boxplot car les unités des variables ne sont pas les mêmes.Certaines variables sont très étendues : `PassesLength_Total` et `PassesLength_AccSP`. Certaines sont très peu étendues : `KeyPassesType_Throwing`, `KeyPassesType_Corner`, `KeyPassesType_Throughball` et `KeyPassesType_Freekicks`."
   ]
  },
  {
   "cell_type": "code",
   "execution_count": null,
   "metadata": {},
   "outputs": [],
   "source": [
    "options(repr.plot.width=18, repr.plot.height=18)\n",
    "corr_pas = cor(pas[-27])\n",
    "corrplot.mixed(corr_pas, upper = \"ellipse\", diag = 'u', tl.pos = 'lt')"
   ]
  },
  {
   "cell_type": "markdown",
   "metadata": {},
   "source": [
    "Les variables `PassesLength_AccSP` et `PassesLength_InAccLB`, `PassesLength_InAccLB` et `PassesLength_Total`, `PassesType_InAccFrK` avec `PassesLength_AccSP` sont corrélées deux à deux négativement.  \n",
    "`KeyPasssesType_Other` et `KeyPassesLength_Total`, `KeyPassesType_Other` et `KeyPassesLength_Short`, `KeyPassesLength_Short` avec `KeyPassesLength_Total`, et `Assists_Total` et `Assists_Other`, `PassesType_AccCr` et `KeyPassesType_Cross` sont corrélées entre elles."
   ]
  },
  {
   "cell_type": "markdown",
   "metadata": {},
   "source": [
    "#### Analyse en composantes principales"
   ]
  },
  {
   "cell_type": "code",
   "execution_count": null,
   "metadata": {},
   "outputs": [],
   "source": [
    "pca_pas = PCA(pas, scale.unit=T, graph=F, quali.sup = 27, quanti.sup = 28)"
   ]
  },
  {
   "cell_type": "code",
   "execution_count": null,
   "metadata": {},
   "outputs": [],
   "source": [
    "fviz_eig(pca_def, addlabels = TRUE, ylim = c(0, 30))"
   ]
  },
  {
   "cell_type": "markdown",
   "metadata": {},
   "source": [
    "On garde deux composantes principales."
   ]
  },
  {
   "cell_type": "code",
   "execution_count": null,
   "metadata": {},
   "outputs": [],
   "source": [
    "options(repr.plot.width=18, repr.plot.height=18)\n",
    "fviz_pca_var(pca_pas)"
   ]
  },
  {
   "cell_type": "markdown",
   "metadata": {},
   "source": [
    "La variable `Rating` semble très fortement corrélée aux variables `KeyPassesType_others`, `Assists_Total`, `KeyPassesLength_Short`, `PassesLength_Total`, `PassesLength_AccSP` . \n",
    "Les variables `KeyPassesType_Freekick` et `KeyPassesType_Throwing` qui représentent respectivement les passes clés sur un coup franc et les passes clés sur une touche sont corrélées négativement avec `Rating`. Il en est de même pour `PassesLength_InAccLB` et `PassesType_InAccFrk` qui sont respectivement les ballons longs ratés et les coups francs ratés."
   ]
  },
  {
   "cell_type": "code",
   "execution_count": null,
   "metadata": {},
   "outputs": [],
   "source": [
    "fviz_pca_biplot(pca_pas, #repel = TRUE,\n",
    "                col.var = \"darkslategrey\", # Variables color\n",
    "                habillage = def[,18], # Individuals color\n",
    "                col.quanti.sup = \"red\",\n",
    "                col.circle = \"darkslategrey\"\n",
    "                )"
   ]
  },
  {
   "cell_type": "markdown",
   "metadata": {},
   "source": [
    "On retrouve encore un regroupement de l'Argentine qui semble privilégier les passes ratées.  \n",
    "Les clubs Eibar, Inter et Barcelone se démarquent."
   ]
  },
  {
   "cell_type": "markdown",
   "metadata": {},
   "source": [
    "## ANALYSE DESCRIPTIVE DONNEES OFFENSIVES"
   ]
  },
  {
   "cell_type": "code",
   "execution_count": null,
   "metadata": {},
   "outputs": [],
   "source": [
    "boxplot(of, las = 2)"
   ]
  },
  {
   "cell_type": "code",
   "execution_count": null,
   "metadata": {},
   "outputs": [],
   "source": [
    "options(repr.plot.width=18, repr.plot.height=8)\n",
    "par(mfrow=c(1,3))\n",
    "par(cex.axis=2)\n",
    "boxplot(of[c(1,2,4,5,9,11,13,14,15,31,32,35)], las = 2)\n",
    "boxplot(of[c(38,37,36,34,33)], las = 2)\n",
    "boxplot(of[c(6,8,10,16,18,20,22,23,24,25,28,29)], las = 2)\n",
    "boxplot(of[-c(1,2,4,5,9,11,13,14,15,31,32,35,38,37,36,34,33,6,8,10,16,18,20,22,23,24,25,28,29,39,40)], las = 2)"
   ]
  },
  {
   "cell_type": "markdown",
   "metadata": {},
   "source": [
    "Comme avant, les variables sont plus ou moins étendues, d'où les différents boxplots. La variable `GoalsBodyParts_Other` est toujours à 0. On va la supprimer."
   ]
  },
  {
   "cell_type": "code",
   "execution_count": null,
   "metadata": {},
   "outputs": [],
   "source": [
    "of = of[-30]"
   ]
  },
  {
   "cell_type": "code",
   "execution_count": null,
   "metadata": {},
   "outputs": [],
   "source": [
    "options(repr.plot.width=18, repr.plot.height=18)\n",
    "corr_of = cor(of[-38])\n",
    "corrplot.mixed(corr_of, upper = \"ellipse\", diag = 'u', tl.pos = 'lt')"
   ]
  },
  {
   "cell_type": "markdown",
   "metadata": {},
   "source": [
    "Les variables `Shots_Total` et `ShotsSituations_OpenPlay`, `Goals_Total` et `GoalsSituations_OpenPlay`, `Goals_Total` et `GoalsSituations_Normal`, `Dribbles_Successful` et `Dribbles_Total`, `Aerial_Total` avec `Aerial_Won` et `Aerial_Lost` sont corrélées positivement.  \n",
    "On n'observe que très peu de corrélations négatives, et elles sont généralement faibles.  \n",
    "La variables `Rating` est corrélée positivement avec les variables `ShotsAccuracy_OnTarget`, `Goals_Total`, `GoalsSituations_Normal`, `GoalsZones_PenaltyArea` et `GoalsSituations_OpenPlay`. Le score est meilleur lorsque des buts sont marqués (quelle surprise)."
   ]
  },
  {
   "cell_type": "markdown",
   "metadata": {},
   "source": [
    "#### Analyse en composantes principales"
   ]
  },
  {
   "cell_type": "code",
   "execution_count": null,
   "metadata": {},
   "outputs": [],
   "source": [
    "pca_of = PCA(of, scale.unit=T, graph=F, quali.sup = 38, quanti.sup = 39)"
   ]
  },
  {
   "cell_type": "code",
   "execution_count": null,
   "metadata": {},
   "outputs": [],
   "source": [
    "fviz_eig(pca_of, addlabels = TRUE)"
   ]
  },
  {
   "cell_type": "markdown",
   "metadata": {},
   "source": [
    "Vu l'ébouli, deux composantes principales sont largement suffisantes pour expliquer une bonne partie de la variance."
   ]
  },
  {
   "cell_type": "code",
   "execution_count": null,
   "metadata": {},
   "outputs": [],
   "source": [
    "options(repr.plot.width=18, repr.plot.height=18)\n",
    "fviz_pca_var(pca_of)"
   ]
  },
  {
   "cell_type": "markdown",
   "metadata": {},
   "source": [
    "Comme les variables très corrélées avec `Rating` ne sont pas lisibles sur l'ACP, on calcule la distance entre `Rating` et chacune des variables dans ce plan factoriel."
   ]
  },
  {
   "cell_type": "code",
   "execution_count": null,
   "metadata": {},
   "outputs": [],
   "source": [
    "dist = list()\n",
    "dist[[1]] = colnames(of)[1:37]\n",
    "dist[[2]] = rep(0,37)\n",
    "\n",
    "for (i in 1:37){\n",
    "    dist[[2]][i] = (pca_of$quanti.sup$coord[1] - pca_of$var$coord[i,1])**2 + \n",
    "    (pca_of$quanti.sup$coord[2] - pca_of$var$coord[i,2])**2\n",
    "}\n",
    "data.frame(matrix(unlist(dist), ncol=length(dist), byrow=F))"
   ]
  },
  {
   "cell_type": "markdown",
   "metadata": {},
   "source": [
    "Les variables `Shots_Total`, `ShotSituations_OpenPlay` et `GoalsBodyParts_LeftFoot` sont très corrélées avec `Rating`. Les variables `ShotsAccuracy_OnTarget`, `ShotsAccuracy_Blocked`, `ShotsBodyParts_LeftFoot`, `Goals_Total`, `GoalsZones_PenaltyArea`, `GoalsSituations_OpenPlay` et `GoalsBodyPart_RightFoot` sont corrélées avec la variable explicative.  \n",
    "Plusieurs autres variables sont aussi corrélées, mais un peu moins."
   ]
  },
  {
   "cell_type": "code",
   "execution_count": null,
   "metadata": {},
   "outputs": [],
   "source": [
    "fviz_pca_biplot(pca_of, #repel = TRUE,\n",
    "                col.var = \"darkslategrey\", # Variables color\n",
    "                habillage = def[,18], # Individuals color\n",
    "                col.quanti.sup = \"red\",\n",
    "                col.circle = \"darkslategrey\"\n",
    "                )"
   ]
  },
  {
   "cell_type": "markdown",
   "metadata": {},
   "source": [
    "A part l'Argentine on ne remarque pas trop de blocs de pays. Tous les clubs sont en général répartis sur l'axe 1, qui porte `Rating`.  \n",
    "Nice, Burnley et le Bayern sont assez isolés par rapport aux autres clubs."
   ]
  },
  {
   "cell_type": "markdown",
   "metadata": {},
   "source": [
    "## Analyse de toutes les données réunies"
   ]
  },
  {
   "cell_type": "markdown",
   "metadata": {},
   "source": [
    "#### Concaténation des dataframes"
   ]
  },
  {
   "cell_type": "code",
   "execution_count": null,
   "metadata": {},
   "outputs": [],
   "source": [
    "data_tot = read.csv('./Donnees/Plusieurs_pays/Total.csv', header = TRUE)\n",
    "data_tot = data_tot[-c(47,60)]"
   ]
  },
  {
   "cell_type": "markdown",
   "metadata": {},
   "source": [
    "#### Analyse de la corrélation"
   ]
  },
  {
   "cell_type": "code",
   "execution_count": null,
   "metadata": {},
   "outputs": [],
   "source": [
    "options(repr.plot.width=18, repr.plot.height=18)\n",
    "corr_tot=cor(data_tot[-81])\n",
    "corrplot.mixed(corr_tot, upper = \"ellipse\", diag = 'u', tl.pos = 'lt')"
   ]
  },
  {
   "cell_type": "markdown",
   "metadata": {},
   "source": [
    "On n'y voit rien mais on peut zoomer si on tient à regarder."
   ]
  },
  {
   "cell_type": "markdown",
   "metadata": {},
   "source": [
    "#### Analyse en composantes principales"
   ]
  },
  {
   "cell_type": "code",
   "execution_count": null,
   "metadata": {},
   "outputs": [],
   "source": [
    "pca_tot = PCA(data_tot, scale.unit=T, graph=F, quali.sup = 81, quanti.sup = 82)"
   ]
  },
  {
   "cell_type": "code",
   "execution_count": null,
   "metadata": {},
   "outputs": [],
   "source": [
    "fviz_eig(pca_tot, addlabels = TRUE)"
   ]
  },
  {
   "cell_type": "markdown",
   "metadata": {},
   "source": [
    "Il semble judicieux de garder 3 composantes principales."
   ]
  },
  {
   "cell_type": "code",
   "execution_count": null,
   "metadata": {},
   "outputs": [],
   "source": [
    "options(repr.plot.width=18, repr.plot.height=18)\n",
    "fviz_pca_var(pca_tot)"
   ]
  },
  {
   "cell_type": "markdown",
   "metadata": {},
   "source": [
    "On remarque deux types de variables qui se séparent selon l'axe 1 :  \n",
    "* les variables liées aux duels aériens, aux fautes, aux tacles et les pertes de balle (entre autres)  \n",
    "* les variables sur la longueur des passes, les tirs et les buts  \n",
    "Le deuxième groupe de variables est corrélé positivement à la variable `Rating` alors que le premier l'est négativement."
   ]
  },
  {
   "cell_type": "code",
   "execution_count": null,
   "metadata": {},
   "outputs": [],
   "source": [
    "fviz_pca_biplot(pca_tot, #repel = TRUE,\n",
    "                col.var = \"grey\", # Variables color\n",
    "                habillage = data_tot[,81], # Individuals color\n",
    "                col.quanti.sup = \"red\",\n",
    "                col.circle = \"darkslategrey\"\n",
    "                )"
   ]
  },
  {
   "cell_type": "markdown",
   "metadata": {},
   "source": [
    "Les bons clubs semblent former un arc de cercle autour de la variable `Rating`. Tous les clubs argentins se situent à gauche dans l'ACP, comme de nombreux clubs français. L'Angleterre n'est que très peu dispersée selon le deuxième axe."
   ]
  },
  {
   "cell_type": "code",
   "execution_count": null,
   "metadata": {},
   "outputs": [],
   "source": []
  }
 ],
 "metadata": {
  "kernelspec": {
   "display_name": "R",
   "language": "R",
   "name": "ir"
  },
  "language_info": {
   "codemirror_mode": "r",
   "file_extension": ".r",
   "mimetype": "text/x-r-source",
   "name": "R",
   "pygments_lexer": "r",
   "version": "3.6.1"
  },
  "latex_envs": {
   "LaTeX_envs_menu_present": true,
   "autoclose": false,
   "autocomplete": true,
   "bibliofile": "biblio.bib",
   "cite_by": "apalike",
   "current_citInitial": 1,
   "eqLabelWithNumbers": true,
   "eqNumInitial": 1,
   "hotkeys": {
    "equation": "Ctrl-E",
    "itemize": "Ctrl-I"
   },
   "labels_anchors": false,
   "latex_user_defs": false,
   "report_style_numbering": false,
   "user_envs_cfg": false
  }
 },
 "nbformat": 4,
 "nbformat_minor": 2
}
